{
  "nbformat": 4,
  "nbformat_minor": 0,
  "metadata": {
    "colab": {
      "provenance": [],
      "gpuType": "T4",
      "mount_file_id": "1qVdOffpKqjYADqM7Ae-azyu8FJEQIALz",
      "authorship_tag": "ABX9TyO34yEkt2jkUDOIoPxe4t8Z"
    },
    "kernelspec": {
      "name": "python3",
      "display_name": "Python 3"
    },
    "language_info": {
      "name": "python"
    },
    "accelerator": "GPU"
  },
  "cells": [
    {
      "cell_type": "code",
      "source": [
        "%cd /content/drive/MyDrive/Colab Notebooks/yolov7_train\n",
        "!git clone https://github.com/augmentedstartups/yolov7.git"
      ],
      "metadata": {
        "id": "dvJWLI1Rwwp1"
      },
      "execution_count": null,
      "outputs": []
    },
    {
      "cell_type": "code",
      "source": [
        "%cd /content/drive/MyDrive/Colab Notebooks/yolov7_train/yolov7\n",
        "!pip install -r requirements.txt"
      ],
      "metadata": {
        "id": "Eep5yvSjxIAR"
      },
      "execution_count": null,
      "outputs": []
    },
    {
      "cell_type": "code",
      "source": [
        "%cd /content/drive/MyDrive/Colab Notebooks/yolov7_train/yolov7\n",
        "!mkdir pretrain\n",
        "%cd pretrain\n",
        "!wget https://github.com/WongKinYiu/yolov7/releases/download/v0.1/yolov7.pt"
      ],
      "metadata": {
        "id": "bGlkyJlhxRQt"
      },
      "execution_count": null,
      "outputs": []
    },
    {
      "cell_type": "code",
      "source": [
        "%cd /content/drive/MyDrive/Colab Notebooks/yolov7_train\n",
        "!mkdir test_data\n",
        "%cd test_data\n",
        "!unzip ../test.zip"
      ],
      "metadata": {
        "id": "vaKaLR1XyK0r"
      },
      "execution_count": null,
      "outputs": []
    },
    {
      "cell_type": "code",
      "source": [
        "%cd /content/drive/MyDrive/Colab Notebooks/yolov7_train/test_data\n",
        "!mkdir test\n",
        "!mkdir test/images\n",
        "!mkdir test/labels\n",
        "!mv *.jpg test/images\n",
        "!mv *.txt test/labels"
      ],
      "metadata": {
        "id": "_paFrQhoyqA4",
        "colab": {
          "base_uri": "https://localhost:8080/"
        },
        "outputId": "7179c891-07bd-49df-f1c4-c182be706b17"
      },
      "execution_count": null,
      "outputs": [
        {
          "output_type": "stream",
          "name": "stdout",
          "text": [
            "/content/drive/MyDrive/Colab Notebooks/yolov7_train/test_data\n"
          ]
        }
      ]
    },
    {
      "cell_type": "code",
      "source": [
        "%cd /content/drive/MyDrive/Colab Notebooks/yolov7_train\n",
        "!mkdir train_data\n",
        "%cd train_data\n",
        "!unzip ../train.zip"
      ],
      "metadata": {
        "id": "i0ht8yqd52eT"
      },
      "execution_count": null,
      "outputs": []
    },
    {
      "cell_type": "code",
      "source": [
        "%cd /content/drive/MyDrive/Colab Notebooks/yolov7_train/train_data\n",
        "!mkdir train\n",
        "!mkdir train/images\n",
        "!mkdir train/labels\n",
        "!mv *.jpg train/images\n",
        "!mv *.txt train/labels"
      ],
      "metadata": {
        "id": "rqBBhF0h5MMd"
      },
      "execution_count": null,
      "outputs": []
    },
    {
      "cell_type": "code",
      "source": [
        "%cd /content/drive/MyDrive/Colab Notebooks/yolov7_train/yolov7\n",
        "!rm data/mydataset.yaml\n",
        "!echo 'train: ../train_data/train' >> data/mydataset.yaml\n",
        "!echo 'val: ../test_data/test' >> data/mydataset.yaml\n",
        "!echo 'nc: 2' >> data/mydataset.yaml\n",
        "!echo \"names: ['dog', 'person']\" >> data/mydataset.yaml"
      ],
      "metadata": {
        "id": "pMOZCFd7zGxc",
        "colab": {
          "base_uri": "https://localhost:8080/"
        },
        "outputId": "b3ba4ba4-308a-4716-8d31-2e0879459d95"
      },
      "execution_count": null,
      "outputs": [
        {
          "output_type": "stream",
          "name": "stdout",
          "text": [
            "/content/drive/MyDrive/Colab Notebooks/yolov7_train/yolov7\n"
          ]
        }
      ]
    },
    {
      "cell_type": "code",
      "source": [
        "%cd /content/drive/MyDrive/Colab Notebooks/yolov7_train/yolov7\n",
        "!python train.py --batch 8 --cfg cfg/training/yolov7.yaml --epochs 10 --data data/mydataset.yaml --weights 'pretrain/yolov7.pt'"
      ],
      "metadata": {
        "id": "XoM9k_no5Df1"
      },
      "execution_count": null,
      "outputs": []
    },
    {
      "cell_type": "code",
      "source": [
        "%cd /content/drive/MyDrive/Colab Notebooks/yolov7_train\n",
        "%cd val_data\n",
        "!unzip ../val.zip"
      ],
      "metadata": {
        "id": "O0SNk9UgEfoM"
      },
      "execution_count": null,
      "outputs": []
    },
    {
      "cell_type": "code",
      "source": [
        "%cd /content/drive/MyDrive/Colab Notebooks/yolov7_train/val_data\n",
        "!mkdir val\n",
        "!mkdir val/images\n",
        "!mkdir val/labels\n",
        "!mv *.jpg val/images\n",
        "!mv *.txt val/labels"
      ],
      "metadata": {
        "colab": {
          "base_uri": "https://localhost:8080/"
        },
        "id": "vWJQrbZzEwbN",
        "outputId": "0951156c-9432-4d07-a719-6c96c23b5069"
      },
      "execution_count": null,
      "outputs": [
        {
          "output_type": "stream",
          "name": "stdout",
          "text": [
            "/content/drive/MyDrive/Colab Notebooks/yolov7_train/val_data\n"
          ]
        }
      ]
    },
    {
      "cell_type": "code",
      "source": [
        "!python test.py --data \"data/mydataset.yaml\" --img 416 --batch 32  --conf 0.5 --iou 0.65 --device 0 --weights runs/train/exp2/weights/best.pt --name yolov7_test"
      ],
      "metadata": {
        "id": "64FGo10k1gt-",
        "colab": {
          "base_uri": "https://localhost:8080/"
        },
        "outputId": "90ce3d3e-f1c7-4ce2-9d61-e48be46e91ee"
      },
      "execution_count": null,
      "outputs": [
        {
          "output_type": "stream",
          "name": "stdout",
          "text": [
            "Namespace(weights=['runs/train/exp2/weights/best.pt'], data='data/mydataset.yaml', batch_size=32, img_size=416, conf_thres=0.5, iou_thres=0.65, task='val', device='0', single_cls=False, augment=False, verbose=False, save_txt=False, save_hybrid=False, save_conf=False, save_json=False, project='runs/test', name='yolov7_test', exist_ok=False, no_trace=False)\n",
            "YOLOR 🚀 2023-8-22 torch 2.0.1+cu118 CUDA:0 (Tesla T4, 15101.8125MB)\n",
            "\n",
            "Fusing layers... \n",
            "RepConv.fuse_repvgg_block\n",
            "RepConv.fuse_repvgg_block\n",
            "RepConv.fuse_repvgg_block\n",
            "IDetect.fuse\n",
            "/usr/local/lib/python3.10/dist-packages/torch/functional.py:504: UserWarning: torch.meshgrid: in an upcoming release, it will be required to pass the indexing argument. (Triggered internally at ../aten/src/ATen/native/TensorShape.cpp:3483.)\n",
            "  return _VF.meshgrid(tensors, **kwargs)  # type: ignore[attr-defined]\n",
            "Model Summary: 314 layers, 36487166 parameters, 6194944 gradients, 103.2 GFLOPS\n",
            " Convert model to Traced-model... \n",
            " traced_script_module saved! \n",
            " model is traced! \n",
            "\n",
            "\u001b[34m\u001b[1mval: \u001b[0mScanning '../test_data/test/labels.cache' images and labels... 249 found, 1 missing, 0 empty, 0 corrupted: 100% 250/250 [00:00<?, ?it/s]\n",
            "               Class      Images      Labels           P           R      mAP@.5  mAP@.5:.95: 100% 8/8 [00:17<00:00,  2.21s/it]\n",
            "                 all         250         747       0.979       0.976       0.978         0.7\n",
            "              person         250         747       0.979       0.976       0.978         0.7\n",
            "Speed: 7.2/2.9/10.1 ms inference/NMS/total per 416x416 image at batch-size 32\n",
            "Results saved to runs/test/yolov7_test5\n"
          ]
        }
      ]
    },
    {
      "cell_type": "code",
      "source": [
        "%cd /content/drive/MyDrive/Colab Notebooks/yolov7_train/yolov7\n",
        "!python detect.py --weights runs/train/exp2/weights/best.pt --source \"/content/drive/MyDrive/Colab Notebooks/yolov7_train/val_data/val/images\""
      ],
      "metadata": {
        "colab": {
          "base_uri": "https://localhost:8080/"
        },
        "id": "Af90G4pmE4OI",
        "outputId": "de073733-31d8-42ab-84a5-c1ff99c11589"
      },
      "execution_count": null,
      "outputs": [
        {
          "output_type": "stream",
          "name": "stdout",
          "text": [
            "/content/drive/MyDrive/Colab Notebooks/yolov7_train/yolov7\n",
            "Namespace(weights=['runs/train/exp2/weights/best.pt'], source='/content/drive/MyDrive/Colab Notebooks/yolov7_train/val_data/val/images', img_size=640, conf_thres=0.25, iou_thres=0.45, device='', view_img=False, save_txt=False, save_conf=False, nosave=False, classes=None, agnostic_nms=False, augment=False, update=False, project='runs/detect', name='exp', exist_ok=False, no_trace=False)\n",
            "YOLOR 🚀 2023-8-22 torch 2.0.1+cu118 CPU\n",
            "\n",
            "Fusing layers... \n",
            "RepConv.fuse_repvgg_block\n",
            "RepConv.fuse_repvgg_block\n",
            "RepConv.fuse_repvgg_block\n",
            "IDetect.fuse\n",
            "Model Summary: 314 layers, 36487166 parameters, 6194944 gradients\n",
            " Convert model to Traced-model... \n",
            " traced_script_module saved! \n",
            " model is traced! \n",
            "\n",
            "/usr/local/lib/python3.10/dist-packages/torch/functional.py:504: UserWarning: torch.meshgrid: in an upcoming release, it will be required to pass the indexing argument. (Triggered internally at ../aten/src/ATen/native/TensorShape.cpp:3483.)\n",
            "  return _VF.meshgrid(tensors, **kwargs)  # type: ignore[attr-defined]\n",
            "3 persons, Done. (1499.4ms) Inference, (27.4ms) NMS\n",
            " The image with the result is saved in: runs/detect/exp/jetson6_00001.jpg\n",
            "3 persons, Done. (1360.3ms) Inference, (0.9ms) NMS\n",
            " The image with the result is saved in: runs/detect/exp/jetson6_00002.jpg\n",
            "3 persons, Done. (1320.7ms) Inference, (1.0ms) NMS\n",
            " The image with the result is saved in: runs/detect/exp/jetson6_00003.jpg\n",
            "3 persons, Done. (1402.2ms) Inference, (0.9ms) NMS\n",
            " The image with the result is saved in: runs/detect/exp/jetson6_00004.jpg\n",
            "3 persons, Done. (1310.9ms) Inference, (0.9ms) NMS\n",
            " The image with the result is saved in: runs/detect/exp/jetson6_00005.jpg\n",
            "3 persons, Done. (1345.0ms) Inference, (0.9ms) NMS\n",
            " The image with the result is saved in: runs/detect/exp/jetson6_00006.jpg\n",
            "3 persons, Done. (2278.6ms) Inference, (2.7ms) NMS\n",
            " The image with the result is saved in: runs/detect/exp/jetson6_00007.jpg\n",
            "3 persons, Done. (2151.4ms) Inference, (1.2ms) NMS\n",
            " The image with the result is saved in: runs/detect/exp/jetson6_00008.jpg\n",
            "3 persons, Done. (1699.9ms) Inference, (0.9ms) NMS\n",
            " The image with the result is saved in: runs/detect/exp/jetson6_00009.jpg\n",
            "3 persons, Done. (1353.0ms) Inference, (0.9ms) NMS\n",
            " The image with the result is saved in: runs/detect/exp/jetson6_00010.jpg\n",
            "3 persons, Done. (1318.1ms) Inference, (1.2ms) NMS\n",
            " The image with the result is saved in: runs/detect/exp/jetson6_00011.jpg\n",
            "3 persons, Done. (1316.6ms) Inference, (1.2ms) NMS\n",
            " The image with the result is saved in: runs/detect/exp/jetson6_00012.jpg\n",
            "3 persons, Done. (1339.3ms) Inference, (1.0ms) NMS\n",
            " The image with the result is saved in: runs/detect/exp/jetson6_00013.jpg\n",
            "3 persons, Done. (1313.4ms) Inference, (1.0ms) NMS\n",
            " The image with the result is saved in: runs/detect/exp/jetson6_00014.jpg\n",
            "3 persons, Done. (1331.6ms) Inference, (0.9ms) NMS\n",
            " The image with the result is saved in: runs/detect/exp/jetson6_00015.jpg\n",
            "3 persons, Done. (1754.4ms) Inference, (1.2ms) NMS\n",
            " The image with the result is saved in: runs/detect/exp/jetson6_00016.jpg\n",
            "3 persons, Done. (2212.5ms) Inference, (1.3ms) NMS\n",
            " The image with the result is saved in: runs/detect/exp/jetson6_00017.jpg\n",
            "3 persons, Done. (1744.3ms) Inference, (0.9ms) NMS\n",
            " The image with the result is saved in: runs/detect/exp/jetson6_00018.jpg\n",
            "3 persons, Done. (1335.5ms) Inference, (0.9ms) NMS\n",
            " The image with the result is saved in: runs/detect/exp/jetson6_00019.jpg\n",
            "3 persons, Done. (1368.9ms) Inference, (0.9ms) NMS\n",
            " The image with the result is saved in: runs/detect/exp/jetson6_00020.jpg\n",
            "3 persons, Done. (1318.8ms) Inference, (0.9ms) NMS\n",
            " The image with the result is saved in: runs/detect/exp/jetson6_00021.jpg\n",
            "3 persons, Done. (1350.6ms) Inference, (1.0ms) NMS\n",
            " The image with the result is saved in: runs/detect/exp/jetson6_00022.jpg\n",
            "3 persons, Done. (1315.7ms) Inference, (1.3ms) NMS\n",
            " The image with the result is saved in: runs/detect/exp/jetson6_00023.jpg\n",
            "3 persons, Done. (1299.0ms) Inference, (0.8ms) NMS\n",
            " The image with the result is saved in: runs/detect/exp/jetson6_00024.jpg\n",
            "3 persons, Done. (1781.8ms) Inference, (1.1ms) NMS\n",
            " The image with the result is saved in: runs/detect/exp/jetson6_00025.jpg\n",
            "3 persons, Done. (2148.2ms) Inference, (1.2ms) NMS\n",
            " The image with the result is saved in: runs/detect/exp/jetson6_00026.jpg\n",
            "3 persons, Done. (1811.8ms) Inference, (0.8ms) NMS\n",
            " The image with the result is saved in: runs/detect/exp/jetson6_00027.jpg\n",
            "3 persons, Done. (1284.5ms) Inference, (0.9ms) NMS\n",
            " The image with the result is saved in: runs/detect/exp/jetson6_00028.jpg\n",
            "3 persons, Done. (1344.5ms) Inference, (0.9ms) NMS\n",
            " The image with the result is saved in: runs/detect/exp/jetson6_00029.jpg\n",
            "3 persons, Done. (1330.0ms) Inference, (0.9ms) NMS\n",
            " The image with the result is saved in: runs/detect/exp/jetson6_00030.jpg\n",
            "3 persons, Done. (1315.1ms) Inference, (0.8ms) NMS\n",
            " The image with the result is saved in: runs/detect/exp/jetson6_00031.jpg\n",
            "3 persons, Done. (1279.7ms) Inference, (0.8ms) NMS\n",
            " The image with the result is saved in: runs/detect/exp/jetson6_00032.jpg\n",
            "3 persons, Done. (1306.7ms) Inference, (0.9ms) NMS\n",
            " The image with the result is saved in: runs/detect/exp/jetson6_00033.jpg\n",
            "3 persons, Done. (1530.1ms) Inference, (1.4ms) NMS\n",
            " The image with the result is saved in: runs/detect/exp/jetson6_00034.jpg\n",
            "3 persons, Done. (2160.2ms) Inference, (1.2ms) NMS\n",
            " The image with the result is saved in: runs/detect/exp/jetson6_00035.jpg\n",
            "3 persons, Done. (2039.4ms) Inference, (1.5ms) NMS\n",
            " The image with the result is saved in: runs/detect/exp/jetson6_00036.jpg\n",
            "3 persons, Done. (1386.9ms) Inference, (0.9ms) NMS\n",
            " The image with the result is saved in: runs/detect/exp/jetson6_00037.jpg\n",
            "3 persons, Done. (1338.3ms) Inference, (0.9ms) NMS\n",
            " The image with the result is saved in: runs/detect/exp/jetson6_00038.jpg\n",
            "3 persons, Done. (1369.1ms) Inference, (0.9ms) NMS\n",
            " The image with the result is saved in: runs/detect/exp/jetson6_00039.jpg\n",
            "4 persons, Done. (1301.0ms) Inference, (0.8ms) NMS\n",
            " The image with the result is saved in: runs/detect/exp/jetson6_00040.jpg\n",
            "3 persons, Done. (1270.3ms) Inference, (0.9ms) NMS\n",
            " The image with the result is saved in: runs/detect/exp/jetson6_00041.jpg\n",
            "3 persons, Done. (1288.7ms) Inference, (0.9ms) NMS\n",
            " The image with the result is saved in: runs/detect/exp/jetson6_00042.jpg\n",
            "3 persons, Done. (1442.3ms) Inference, (1.3ms) NMS\n",
            " The image with the result is saved in: runs/detect/exp/jetson6_00043.jpg\n",
            "3 persons, Done. (2177.9ms) Inference, (1.2ms) NMS\n",
            " The image with the result is saved in: runs/detect/exp/jetson6_00044.jpg\n",
            "3 persons, Done. (2134.9ms) Inference, (1.0ms) NMS\n",
            " The image with the result is saved in: runs/detect/exp/jetson6_00045.jpg\n",
            "3 persons, Done. (1349.8ms) Inference, (0.9ms) NMS\n",
            " The image with the result is saved in: runs/detect/exp/jetson6_00046.jpg\n",
            "3 persons, Done. (1275.6ms) Inference, (0.8ms) NMS\n",
            " The image with the result is saved in: runs/detect/exp/jetson6_00047.jpg\n",
            "3 persons, Done. (1277.7ms) Inference, (0.9ms) NMS\n",
            " The image with the result is saved in: runs/detect/exp/jetson6_00048.jpg\n",
            "3 persons, Done. (1385.8ms) Inference, (0.9ms) NMS\n",
            " The image with the result is saved in: runs/detect/exp/jetson6_00049.jpg\n",
            "3 persons, Done. (1292.1ms) Inference, (0.9ms) NMS\n",
            " The image with the result is saved in: runs/detect/exp/jetson6_00050.jpg\n",
            "3 persons, Done. (1341.2ms) Inference, (0.9ms) NMS\n",
            " The image with the result is saved in: runs/detect/exp/jetson6_00051.jpg\n",
            "Done. (82.706s)\n"
          ]
        }
      ]
    }
  ]
}